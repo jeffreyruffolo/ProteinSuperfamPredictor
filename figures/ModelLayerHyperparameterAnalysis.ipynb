{
  "nbformat": 4,
  "nbformat_minor": 0,
  "metadata": {
    "colab": {
      "name": "ModelLayerHyperparameterAnalysis",
      "provenance": [],
      "collapsed_sections": []
    },
    "kernelspec": {
      "name": "python3",
      "display_name": "Python 3"
    }
  },
  "cells": [
    {
      "cell_type": "code",
      "metadata": {
        "id": "FQxTYR8-1eLO"
      },
      "source": [
        "import csv\n",
        "import matplotlib.pyplot as plt\n",
        "import numpy as np"
      ],
      "execution_count": 8,
      "outputs": []
    },
    {
      "cell_type": "code",
      "metadata": {
        "id": "qNXfGOS819Ra"
      },
      "source": [
        "with open('/content/results.csv', newline='') as csvfile:\n",
        "  csv_reader = csv.reader(csvfile, delimiter=',')\n",
        "  total = 0\n",
        "  correct10 = 0\n",
        "  correct6 = 0\n",
        "  correct2 = 0\n",
        "  for row in csv_reader:\n",
        "    if row[0] != '0':\n",
        "      total += 1\n",
        "      if row[0] == row[1]:\n",
        "        correct10 += 1\n",
        "      if row[0] == row[2]:\n",
        "        correct6 += 1\n",
        "      if row[0] == row[3]:\n",
        "        correct2 += 1"
      ],
      "execution_count": 36,
      "outputs": []
    },
    {
      "cell_type": "code",
      "metadata": {
        "colab": {
          "base_uri": "https://localhost:8080/"
        },
        "id": "rrthYbez4Kzq",
        "outputId": "28da1320-3a3f-4a21-d2c4-7af0ff0f765a"
      },
      "source": [
        "acc10 = correct10/total\n",
        "acc6 = correct6/total\n",
        "acc2 = correct2/total\n",
        "print(acc10)\n",
        "print(acc6)\n",
        "print(acc2)"
      ],
      "execution_count": 40,
      "outputs": [
        {
          "output_type": "stream",
          "text": [
            "0.6483851310176721\n",
            "0.6758074344911639\n",
            "0.6538695917123705\n"
          ],
          "name": "stdout"
        }
      ]
    },
    {
      "cell_type": "code",
      "metadata": {
        "colab": {
          "base_uri": "https://localhost:8080/",
          "height": 336
        },
        "id": "2n9BIQTc4caA",
        "outputId": "9d209a56-8305-4e1d-af91-a1b90bc642ff"
      },
      "source": [
        "plt.style.use('ggplot')\n",
        "\n",
        "x = ['Model-10', 'Model-6', 'Model-2']\n",
        "y = [acc10,acc6,acc2]\n",
        "\n",
        "x_pos = [i for i, _ in enumerate(x)]\n",
        "\n",
        "plt.bar(x_pos, y, color='green')\n",
        "plt.xlabel(\"Number of Layers\")\n",
        "plt.ylabel(\"Accuracy\")\n",
        "plt.title(\"Hyperparameter Analysis: Number of Layers\")\n",
        "\n",
        "plt.xticks(x_pos, x)\n",
        "\n",
        "plt.show()\n",
        "plt.savefig('numberLayersAnalysis.png')"
      ],
      "execution_count": 45,
      "outputs": [
        {
          "output_type": "display_data",
          "data": {
            "image/png": "[encoded data removed]",
            "text/plain": [
              "<Figure size 432x288 with 1 Axes>"
            ]
          },
          "metadata": {
            "tags": []
          }
        },
        {
          "output_type": "display_data",
          "data": {
            "text/plain": [
              "<Figure size 432x288 with 0 Axes>"
            ]
          },
          "metadata": {
            "tags": []
          }
        }
      ]
    }
  ]
}